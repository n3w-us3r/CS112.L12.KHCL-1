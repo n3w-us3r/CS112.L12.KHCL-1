{
  "nbformat": 4,
  "nbformat_minor": 0,
  "metadata": {
    "colab": {
      "name": "BOT.ipynb",
      "provenance": [],
      "collapsed_sections": []
    },
    "kernelspec": {
      "name": "python_defaultSpec_1600336493212",
      "display_name": "Python 3.7.6 64-bit ('base': conda)"
    }
  },
  "cells": [
    {
      "cell_type": "markdown",
      "metadata": {
        "id": "ZH427WRak2wy",
        "colab_type": "text"
      },
      "source": [
        "1. Abstraction: Find the greatest continous sub array\n",
        "\n",
        "2. Pattern recognition: Dynamic Programming\n",
        "\n",
        "3. Algorithm designed:\n",
        "\n",
        "\n",
        "*   n      - The size of array\n",
        "*   arr    - Input array (arr[0], arr[1], ..., arr[n-1])\n",
        "*   p      - The start of the road \n",
        "*   q      - The end of the road \n",
        "*   start  - Temporary variable storing the start of the road when processing\n",
        "*   profit - The maximum profit\n",
        "\n",
        "\n",
        "```\n",
        "INPUT: - The first line contains an integer,n  (1 <= n <= 10^6)\n",
        "       - The second line contains n integers a1, a2, . . ., an (0 ≤ |ai| ≤ 109, i = 1 ÷ n).\n",
        "OUTPUT: The only line contains three integers : p,q,profit\n",
        "```\n",
        "\n",
        "\n",
        "\n",
        "1. Initializing\n",
        "```\n",
        "n = int(input())\n",
        "arr = []\n",
        "q = 0\n",
        "p = 0\n",
        "profit = -1e9\n",
        "start = 0\n",
        "```\n",
        "2. Taking inputs\n",
        "```\n",
        "n = int(input())\n",
        "arr = [int(x) for x in input().split()]\n",
        "```\n",
        "3. Handling the case in which there's only one value in the input array\n",
        "```\n",
        "if n == 1:\n",
        "      print(f'{1} {1} {arr[0]}')\n",
        "      return\n",
        "```\n",
        "4. Processing\n",
        "```\n",
        "for i from 0 to n - 1:\n",
        "      if arr[i] + arr[i-1] >= arr[i]:\n",
        "            arr[i] = arr[i] + arr[i-1]\n",
        "      else:\n",
        "            start = i;\n",
        "\n",
        "      if profit < arr[i]:\n",
        "          profit = arr[i]\n",
        "          p = start\n",
        "          q = i\n",
        "```\n",
        "\n",
        "*   Time Complexity: O(n)\n",
        "*   Space Complexoty: O(n)\n",
        "\n",
        "\n",
        "\n",
        "\n",
        " "
      ]
    },
    {
      "cell_type": "markdown",
      "metadata": {
        "id": "vIWjHDuO_1Uu",
        "colab_type": "text"
      },
      "source": [
        ""
      ]
    },
    {
      "cell_type": "markdown",
      "metadata": {
        "id": "SO3QNuqapx7u",
        "colab_type": "text"
      },
      "source": [
        "4. Programming"
      ]
    },
    {
      "cell_type": "code",
      "metadata": {
        "id": "4YWKCDkvkzpw",
        "colab_type": "code",
        "colab": {
          "base_uri": "https://localhost:8080/",
          "height": 68
        },
        "outputId": "2e687b29-0433-49ee-e81d-9c7b3bc59966"
      },
      "source": [
        "def solve():\n",
        "  # initializing\n",
        "  n      = 0\n",
        "  arr    = []\n",
        "  p      = 0\n",
        "  q      = 0\n",
        "  profit = -1e9\n",
        "  start  = 0\n",
        "\n",
        "  # taking inputs\n",
        "  n = int(input())\n",
        "  arr = [int(x) for x in input().split()]\n",
        "\n",
        "  # handling the case in which there's only one value in the input array\n",
        "  if n == 1:\n",
        "    print(f'{1} {1} {arr[0]}')\n",
        "    return\n",
        "\n",
        "  # loop through the array from index 1 to index n-1.\n",
        "  # compare the value at i position with the sum of the previous element and the i'th element (arr[i-1] + arr[i]).\n",
        "  # if the current value is less than (arr[i-1] + arr[i]) then update the value of the i'th element (arr[i] = arr[i-1] + arr[i])\n",
        "  # else update the 'start' varible with i\n",
        "  # check if arr[i] is bigger than profit or not\n",
        "  # if True then we update the value of 'profit' to the bigger value (profit = arr[i]) \n",
        "  # and update the starting position (p) and ending position (q)\n",
        "  # with two end points of the corresponding subarray (p = start, q = i) \n",
        "  for i in range(1, n):\n",
        "    if arr[i-1] + arr[i] >= arr[i]:\n",
        "      arr[i] = arr[i-1] + arr[i]\n",
        "    else:\n",
        "      start = i\n",
        "\n",
        "    if arr[i] > profit:\n",
        "      profit = arr[i]\n",
        "      p = start\n",
        "      q = i\n",
        "\n",
        "  print(f'{p+1} {q+1} {profit}')\n",
        "\n",
        "solve()"
      ],
      "execution_count": null,
      "outputs": [
        {
          "output_type": "stream",
          "text": [
            "6\n",
            "1 -2 3 -4 1 5\n",
            "5 6 6\n"
          ],
          "name": "stdout"
        }
      ]
    }
  ]
}
