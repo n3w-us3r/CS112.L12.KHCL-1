{
  "nbformat": 4,
  "nbformat_minor": 0,
  "metadata": {
    "colab": {
      "name": "Untitled10.ipynb",
      "provenance": [],
      "collapsed_sections": []
    },
    "kernelspec": {
      "name": "python3",
      "display_name": "Python 3"
    }
  },
  "cells": [
    {
      "cell_type": "markdown",
      "metadata": {
        "id": "QsKBoZHI12lf"
      },
      "source": [
        "# Test Plan\n",
        "\n",
        "Testcase 1: inp1.txt out1.txt<br>\n",
        "- Bẫy trường hợp chỉ tìm cặp số có số bit lệch nhau, nếu không tìm được thì kết luận NO, tìm được thì kết luận YES\n",
        "\n",
        "Testcase 2: inp2.txt out2.txt<br>\n",
        "- Bẫy trường hợp chỉ tìm cặp số có số bit lệch nhau, nếu tìm được thì kết luận YES mà không kiểm tra phép and giữa 2 số có cho ra 0 hay không.\n",
        "\n",
        "Testcase 3: inp3.txt out3.txt<br>\n",
        "- Bẫy trường hợp chỉ kiểm tra xem có số 0 trong dãy hay không, nếu có thì kết luận YES, nếu không có thì kết luận NO\n",
        "\n",
        "\n",
        "Testcase 4: inp4.txt out4.txt<br>\n",
        "- Bẫy trường hợp tìm các số tự nhiên liên tiếp nhau, nếu có 1 cặp số tự nhiên liên tiếp thì kết luận YES\n",
        "\n",
        "Testcase 5: inp5.txt out5.txt<br>\n",
        "- 1 testcase lớn để loại các thuật toán không tối ưu\n",
        "\n"
      ]
    },
    {
      "cell_type": "code",
      "metadata": {
        "id": "UY7j1FFU1ued"
      },
      "source": [
        ""
      ],
      "execution_count": null,
      "outputs": []
    }
  ]
}