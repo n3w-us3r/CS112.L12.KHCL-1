{
  "nbformat": 4,
  "nbformat_minor": 0,
  "metadata": {
    "colab": {
      "name": "phanso.ipynb",
      "provenance": [],
      "collapsed_sections": []
    },
    "kernelspec": {
      "name": "python3",
      "display_name": "Python 3"
    }
  },
  "cells": [
    {
      "cell_type": "markdown",
      "metadata": {
        "id": "iEGBYWFKN7x9"
      },
      "source": [
        "#PHÂN SỐ\n",
        "Cho 2 phân số đúng và tối giản  ,   . Mỗi phép biến đổi là tăng a và b lên 1, sau đó giản ước phân số nhận được.\n",
        "\n",
        "Hãy xác định sau bao nhiêu bước biến đổi từ phân số thứ nhất ban đầu nhận được phân số thứ 2 đã cho.\n",
        "\n",
        "Dữ liệu: Vào từ thiết bị nhập chuẩn gồm 4 dòng, mỗi dòng chứa 1 số nguyên a, b, c, d, 0 < a < b ≤105, 0 < c < d ≤ 105, a và b nguyên tố cùng nhau, c và d nguyên tố cùng nhau   ≠ \n",
        "\n",
        "Kết quả: Đưa ra thiết bị xuất chuẩn số 0 nếu không có cách biến đổi hoặc một số nguyên – số lượng phép biến đổi.\n",
        "\n",
        "Ví dụ:\n",
        "\n",
        "| Input    |  Output  |\n",
        "|----------|--------- |\n",
        "| 1 6 2 3   |5|       \n",
        "\n"
      ]
    },
    {
      "cell_type": "markdown",
      "metadata": {
        "id": "znL1iwO8iUfw"
      },
      "source": [
        "\n",
        "#1. Abstraction\n",
        "Tìm \n",
        "## Input Format\n",
        "Gồm 4 dòng , mỗi dòng chứa 1 số nguyên theo thứ tự a,b,c,d \n",
        "##Output Format\n",
        "1 dòng duy nhất chứa một số nguyên - số phép biến đổi \n",
        "##Constraint \n",
        "a và b nguyên tố cùng nhau \n",
        "\n",
        "c và d nguyên tố cùng nhau\n",
        "\n",
        "0 < a < b ≤$10^5$\n",
        "\n",
        "0 < c < d ≤ $10^5$\n",
        "\n",
        "$\\frac{a}{b}$ ≠ $\\frac{c}{d}$\n",
        "\n",
        "#2. Pattern Recognition : Brute-Force\n",
        "Vì chúng ta phải giải bài toán này bằng cách thực hiện phép biến đổi đến khi phân số thứ nhất bằng phân số thứ hai nên phương pháp dùng để giải bài toán sẽ là brute-force\n",
        "\n",
        "#3. Algorithm Design\n",
        "*Kiến thức bổ trợ : Nếu $\\frac{a}{b}$ = $\\frac{c}{d}$ thì a*d=b*c <br>\n",
        "Giải thuật\n",
        "1. Nếu $\\frac{a}{b}$ <  $\\frac{c}{d}$ :<br>\n",
        "  1.1. Khởi tạo count = 0 <br>\n",
        "  1.2. Lặp lại các bước sau cho đến khi ad>=bc <br>\n",
        "    >a. Tìm ước chung lớn nhất của a+1 và b+1 <br>\n",
        "    b. Tối giản a và b bằng cách chia cho ước chung vừa tìm được <br>\n",
        "    c. Tăng count lên 1 <br>\n",
        "    d. Nếu 2 phân số đã bằng nhau thì  in ra count và kết thúc chương trình \n",
        "2. In ra count = 0 vì $\\frac{a}{b}$ $\\geqslant$ $\\frac{c}{d}$ \n",
        "\n",
        "\n",
        "\n",
        "#Complexity\n",
        "\n",
        "\n",
        "*   Time complexity : O(n)\n",
        "*   Space complexity: O(1)\n",
        "\n",
        "\n",
        "\n"
      ]
    },
    {
      "cell_type": "markdown",
      "metadata": {
        "id": "mWB6MiB2ylDM"
      },
      "source": [
        "#Implementation"
      ]
    },
    {
      "cell_type": "code",
      "metadata": {
        "id": "eoDFzi_CyoXc"
      },
      "source": [
        "from math import gcd\n",
        "a = int(input())\n",
        "b = int(input())\n",
        "c = int(input())\n",
        "d = int(input())\n",
        "\n",
        "if a*d < b*c:\n",
        "    cnt = 0\n",
        "    while (a*d <= b*c):\n",
        "        g = gcd(a + 1,b + 1)\n",
        "        a = (a + 1)//g\n",
        "        b = (b + 1)//g\n",
        "        cnt += 1\n",
        "        if (a == c and b == d):\n",
        "            print(cnt)\n",
        "            quit()\n",
        "\n",
        "print(0)"
      ],
      "execution_count": null,
      "outputs": []
    }
  ]
}