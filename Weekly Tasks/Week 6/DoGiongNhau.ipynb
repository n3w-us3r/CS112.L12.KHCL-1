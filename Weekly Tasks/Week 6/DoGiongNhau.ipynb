{
  "nbformat": 4,
  "nbformat_minor": 0,
  "metadata": {
    "colab": {
      "name": "Copy of Untitled9.ipynb",
      "provenance": []
    },
    "kernelspec": {
      "name": "python3",
      "display_name": "Python 3"
    }
  },
  "cells": [
    {
      "cell_type": "markdown",
      "metadata": {
        "id": "87uST7GE9Cy-"
      },
      "source": [
        "# 1. Abstraction\n",
        "Xác định số cặp chuỗi con gồm 2 ký tự liên tiếp  trong chuỗi A đồng thời cũng là chuỗi con gồm 2 ký tự liên tiếp trong chuỗi B.\n",
        "##Input Format \n",
        "Dòng đầu tiên chứa 1 chuỗi ký tự các chữ cái la tinh hoa A ( độ dài của A không vượt quá $10^5$ )<br>\n",
        "Dòng thứ 2 chứa 1 chuỗi ký tự các chữ cái la tinh hoa B ( độ dài của B không vượt quá $10^5$) <br>\n",
        "##Output Format \n",
        "Một số nguyên n là kết quả của bài toán \n",
        "\n",
        "# 2. Decomposition\n",
        "\n",
        "Có thể chia bài toán thành 2 bài toán con cần giải quyết\n",
        "- Xác định các cặp 2 chữ cái liên tiếp nhau xuất hiện trong chuỗi b\n",
        "- Đếm số lượng các cặp 2 chữ cái liên tiếp nhau đồng thời xuất hiện ở cả chuỗi a và b\n",
        "\n",
        "# 3. Pattern Recognition\n",
        "\n",
        "Với 2 bài toán con đã nêu, ta có thể  sử  dụng cùng 1 ý tưởng để giải quyết cả 2, qua đó cũng là lời giải cuối cùng cho bài toán: Đếm phân phối\n",
        "\n",
        "# 4. Algorithm Design\n",
        "## Time Complexity: O(n)\n",
        "## Space Complexity : O(n)\n",
        "\n",
        "Trước khi phân tích bài toán hãy cùng xem xét ví dụ sau đây\n",
        "\n",
        ">VD: Với 3 kí tự a,b,c  ta có thể có $3^2$ cặp 2 kí tự như sau: <br>\n",
        "- aa\n",
        "- bb\n",
        "- cc\n",
        "- ab\n",
        "- ac\n",
        "- bc\n",
        "- cb\n",
        "- ba\n",
        "- ca <br>\n",
        "\n",
        "$\\Rightarrow$ Tổng quát hơn với N kí tự khác nhau ta có thể  có $N^2$ cặp 2 ký  tự \n",
        "\n",
        "Nhận thấy chuỗi chỉ gồm các kí tự chữ cái in hoa từ A-Z, có tổng cộng 26 chữ cái vậy tối đa chúng ta có thể  có: $26^2$ = 676 cặp 2 kí tự\n",
        "\n",
        "\n",
        "\n",
        "Như vậy với thông tin trên, ta có thể sử dụng phương pháp đếm phân phối để xác định các cặp 2 chữ cái đã xuất hiện.\n",
        "\n",
        "Ngoài ra, theo đề ta có:\n",
        "```\n",
        "Cho hai gene. Hãy xác định mức độ giống nhau của gene thứ nhất với gene thứ 2.\n",
        "```\n",
        "Như vậy có thể lấy chuỗi b làm chuẩn và tiến hành so sánh chuỗi a dựa trên đó, nói cách khác là ta chỉ cần đánh dấu các cặp 2 chữ cái liên tiếp có xuất hiện trong chuỗi b và tiến hành kiểm tra từng cặp 2 chữ cái liên tiếp của chuỗi a xem có xuất hiện trong chuỗi b không dựa trên mảng đếm phân phối, nếu có thì ta đếm lên 1.\n",
        "Tuy nhiên để có thể thực hiện việc đánh dấu các cặp 2 chữ cái trên mảng đếm phân phối, ta phải tiến hành chuyển đổi cặp 2 chữ cái về thành index trong mảng. Ta có thể dùng công thức:\n",
        "\n",
        "\n",
        "> $ord(pair[0]) \\bmod 65 \\times 26 + ord(pair[1]) \\bmod 65$ <br>\n",
        "\n",
        "\n",
        "Với hàm ord() sẽ trả về giá trị thập phân tương ứng trong bảng mã ASCII của kí tự được truyền vào."
      ]
    },
    {
      "cell_type": "markdown",
      "metadata": {
        "id": "YnjZY1qX7kkm"
      },
      "source": [
        "#Pesudo code \n",
        "```\n",
        "\n",
        "```"
      ]
    },
    {
      "cell_type": "markdown",
      "metadata": {
        "id": "22bVz4mNBgge"
      },
      "source": [
        "# 6. Implementation"
      ]
    },
    {
      "cell_type": "code",
      "metadata": {
        "id": "POWPFYkJ8zro"
      },
      "source": [
        "MAX_SIZE = int(1e3)\n",
        "\n",
        "\n",
        "def get_ind(s1, s2):\n",
        "    return ord(s1) % 65 * 26 + ord(s2) % 65\n",
        "\n",
        "\n",
        "def solve():\n",
        "    a = input().strip()\n",
        "    b = input().strip()\n",
        "\n",
        "    count = [False] * MAX_SIZE\n",
        "\n",
        "    ans = 0\n",
        "\n",
        "    if len(a) == 1 or len(b) == 1:\n",
        "        print(0)\n",
        "        return\n",
        "\n",
        "    for i in range(1, len(b)):\n",
        "        ind = get_ind(b[i-1], b[i])\n",
        "        count[ind] = True\n",
        "\n",
        "    for i in range(1, len(a)):\n",
        "        ind = get_ind(a[i-1], a[i])\n",
        "        ans += count[ind]\n",
        "\n",
        "    print(ans)\n",
        "\n",
        "\n",
        "solve()\n"
      ],
      "execution_count": null,
      "outputs": []
    }
  ]
}
