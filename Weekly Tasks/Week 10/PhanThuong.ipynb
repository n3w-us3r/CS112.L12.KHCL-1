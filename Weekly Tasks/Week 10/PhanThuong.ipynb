{
  "nbformat": 4,
  "nbformat_minor": 0,
  "metadata": {
    "colab": {
      "name": "Copy of Untitled",
      "provenance": [],
      "collapsed_sections": []
    },
    "kernelspec": {
      "name": "python3",
      "display_name": "Python 3"
    }
  },
  "cells": [
    {
      "cell_type": "markdown",
      "metadata": {
        "id": "tGk4yejTLa_C"
      },
      "source": [
        "# PHẦN THƯỞNG\n",
        "\n",
        "Harry và Hermione thắng cuộc trong một trò chơi truyền hình và bây giờ là giai đoạn trao thưởng. Quy tắc trao thưởng là như sau: có n phần thưởng xếp thành một hàng dài, đánh số từ 1 đến n. Tùy thuộc vào số điểm đã đạt được của cặp chơi, người dẫn chương trình sẽ nói một số k (1 ≤ k ≤ n/3). Một người chơi sẽ chọn cho mình k phần thưởng xếp liên tiếp nhau, người thứ hai cũng sẽ chọn cho mình k phần thưởng xếp liên tiếp nhau trong số còn lại. Hermione là nữ nên được ưu tiên chọn trước.\n",
        "\n",
        "Trò chơi đã kết thúc. Bây giờ không cần phải đồng tâm hiệp lực. Hermione vẫn còn rất giận Harry về một câu nói vô tâm mà chắc bây giờ Harry cũng không nhớ là mình nói cái gì và khi nào. Hermione hiểu rất rõ giá trị mỗi phần thưởng đối với Harry, cụ thể là phần thưởng thứ i sẽ có giá trị ai, i= 1 ÷ n và quyết định cách chọn của mình sao cho tổng giá trị phần thưởng mà Harry có thể đạt được càng nhỏ càng tốt. Về tổng giá trị phần thưởng của mình, Hermione không mảy may quan tâm!\n",
        "\n",
        "Hãy xác định x – tổng nhỏ nhất giá trị phần thưởng mà Hermione có thể chọn để Harry không có cách chọn phần thưởng với tổng giá trị lớn hơn x.\n",
        "\n",
        "Dữ liệu: Vào từ thiết bị nhập chuẩn:\n",
        "\n",
        "Dòng đầu tiên chứa 2 số nguyên n và k (3 ≤ n ≤ $10^5$, 1 ≤ k ≤ n/3),\n",
        "Dòng thứ 2 chứa n số nguyên a1, a2, . . ., an (1 ≤ ai ≤ 109, i = 1 ÷ n).\n",
        "Kết quả: Đưa ra thiết bị xuất chuẩn số nguyên x.\n",
        "\n",
        "INPUT | OUTPUT\n",
        "--- | ---\n",
        "10 2 | 7\n",
        "1 2 4 5 2 4 2 2 1 6\n",
        "\n",
        "## 1. Abstraction\n",
        "\n",
        "Tìm mảng con A có k phần tử liên tiếp từ một mảng n phần tử cho trước sao cho tổng giá trị các phần tử trong mảng A đủ nhỏ để không chọn được một mảng k phần tử liên tiếp B nào khác từ mảng mẹ sao cho tổng giá trị các phần tử trong B vượt qua được tổng các phần tử trong A. Xuất ra tổng các phần tử mảng A.\n",
        "\n",
        "Input Format <br>\n",
        "\n",
        ">Dòng đầu tiên chứa 2 số nguyên n và k  <br>\n",
        "Dòng thứ 2 chứa n số nguyên a1, a2, ..., an (1 ≤ ai ≤ 109, i = 1 ÷ n)  <br>\n",
        "\n",
        "\n",
        "Output Format <br>\n",
        ">Một số nguyên là kết quả của bài toán\n",
        "\n",
        "## 2. Decomposition\n",
        "\n",
        "Bài toán có thể được chia làm 2 bài toán con gồm: <br>\n",
        "\n",
        "> - Xác định tổng của mảng con k phần tử liên tiếp <br>\n",
        "- Xác định tổng mảng con k phần tử nhỏ nhất sao cho không có tổng k phần tử nào vượt quá được\n",
        "\n",
        "Về phần xác định tổng mảng con k phần tử nhỏ nhất sao cho không có tổng k phần tử nào vượt quá được, sẽ bao gồm những vấn đề nhỏ hơn:\n",
        "\n",
        "> - So sánh tổng mảng con k phần tử đang xét với tổng của các mảng con k phần tử khác <br>\n",
        "- Trong số các mảng con k phần tử  có tổng sao cho không chọn được 1 mảng con k phần tử nào khác có tổng các phần tử vượt qua được, chọn ra tổng nhỏ nhất.\n",
        "\n",
        "## 3. Pattern Recognition\n",
        "\n",
        "Dynamic programming, prefix sum\n",
        "\n",
        "## 4. Algorithm Design\n",
        "\n",
        "Bài toán có giới hạn độ dài mảng đầu vào lên đến $10^5$ vì vậy việc tính tổng các mảng con k phần tử bằng cách duyệt qua các phần tử của mảng sẽ rất tốn kém vì thao tác lặp đi lặp lại nhiều lần. Vì vậy ta cần 1 chiến thuật tốt hơn để có thể xác định nhanh được tổng các phần tử trong một mảng con k phần tử. Có một phương pháp phổ biến cho vấn đề này đó là tổng tiền tố (prefix sum). \n",
        "\n",
        "Về ý tưởng tổng tiền tố. Ta sẽ có một mảng ```pre_sum``` có độ dài n phần tử với phần tử thứ ```i``` sẽ chứa giá trị là tổng các phần tử trong đoạn từ ```0``` đến ```i``` (index đánh từ 0). Nhờ đó ta có thể xác định nhanh tổng của một mảng con bất kì trong đoạn từ ```a``` đến ```b``` (0 <= a, b < n) thông qua công thức sau:\n",
        "\n",
        "> pre_sum[b] - pre_sum[a-1]\n",
        "\n",
        "bởi tổng của một đoạn từ vị trí a đến b sẽ bằng tổng của đoạn từ 0 đến b trừ đi tổng của đoạn từ 0 đến a.\n",
        "\n",
        "Để có thể xác định mảng con A có thỏa điều kiện không thể chọn được mảng con nào khác có tổng các phần tử vượt quá tổng các phần tử của A hay không ? Ta cần so sánh tổng các phần tử của A với tổng các phần tử của các mảng con k phần tử khác có thể chọn ra ngoại trừ A. Để làm được điều đó, ta có một ý tưởng:\n",
        "\n",
        "Với mỗi mảng con A k phần tử liên tiếp trong đoạn từ vị trí a đến vị trí b( 0<= a, b < n), ta thấy mảng ban đầu sẽ được chia làm 3 phần, phần phía trước mảng A, mảng A và phần phía sau mảng A. Vậy để xác định liệu mảng A có được chọn hay không, ta cần so sánh tổng phần tử mảng A với tổng k phần tử  liên tiếp lớn nhất có thể có ở phần phía trước mảng A và tổng k phần tử  liên tiếp lớn nhất có thể có ở phần phía sau mảng A. Nếu điều kiện đúng thì mảng A được chọn. \n",
        "\n",
        "Vậy ta cần xác định được tổng k phần tử  liên tiếp lớn nhất có thể chọn ở phần phía trước và phía sau mảng A. Để làm điều đó, 1 lần nữa ta có thể áp dụng ý tưởng tổng tiền tố:\n",
        "\n",
        "Với phần mảng phía trước A, ta khởi tạo 1 mảng là ```pre_max``` có n phần tử với phần tử thứ ```i``` sẽ giữ giá trị tổng k phần tử liên tiếp lớn nhất có thể chọn trong đoạn từ ```0``` đến ```i-k```. Để xác định giá trị tại ```i``` ta sẽ chọn lấy giá trị ```max``` từ 2 giá trị ```pre_max[i-1]``` và tổng phần tử của mảng con bắt đầu từ vị trí ```i-2*k-1``` đến vị trí ```i-k``` hay nói cách khác là ```pre_sum[i-k]-pre_sum[i-2*k-1]``` (mảng A đang xét tại vị trí ```i``` là đoạn bắt đầu từ ```i-k``` đến ```i```). Ta áp dụng tương tự cho phần phía sau mảng A tuy nhiên lần này ta tiến hành duyệt ngược từ phần tử cuối của mảng mẹ về phần tử đầu của mảng mẹ, ta khởi tạo một mảng ```suf_max``` có n phần tử với phần tử thứ ```i``` chứa tổng k phần tử liên tiếp lớn nhất có thể chọn trong đoạn từ ```i+k``` đến ```n-1``` và mảng ```suf_sum``` có n phần tử với phần tử thứ ```i``` chứa tổng các phần tử trong đoạn từ ```i``` đến ```n-1```.\n"
      ]
    },
    {
      "cell_type": "markdown",
      "metadata": {
        "id": "8BJZlPYb6cP3"
      },
      "source": [
        "## 5. Algorithm Design"
      ]
    },
    {
      "cell_type": "code",
      "metadata": {
        "id": "1SLnCuqwLaUh",
        "colab": {
          "base_uri": "https://localhost:8080/"
        },
        "outputId": "b7631bd4-e061-4b5d-a3d0-1f644641806c"
      },
      "source": [
        "n, k = [int(x) for x in input().split()]\n",
        "\n",
        "gifts = [int(x) for x in input().split()]\n",
        "\n",
        "\n",
        "def get_sum(sum, i, k):\n",
        "    if i < 0:\n",
        "        return 0\n",
        "    return sum[i] - (sum[i-k] if i-k >= 0 else 0)\n",
        "\n",
        "\n",
        "def get__sum(sum, i, k, n):\n",
        "    if i >= n:\n",
        "        return 0\n",
        "    return sum[i] - (sum[i+k] if i+k < n else 0)\n",
        "\n",
        "\n",
        "def solve():\n",
        "    global n, k, gifts\n",
        "\n",
        "    pref_sum = [0] * n\n",
        "    pref_max = [0] * n\n",
        "    pref_max[0] = gifts[0] if k == 1 else 0\n",
        "    pref_sum[0] = gifts[0]\n",
        "\n",
        "    suf_sum = [0] * n\n",
        "    suf_max = [0] * n\n",
        "    suf_max[-1] = gifts[-1] if k == 1 else 0\n",
        "    suf_sum[-1] = gifts[-1]\n",
        "\n",
        "    for i in range(1, n):\n",
        "        pref_sum[i] = pref_sum[i-1] + gifts[i]\n",
        "        pref_max[i] = get_sum(pref_sum, i, k) if i+1 - \\\n",
        "            k < k else max(pref_max[i-1], get_sum(pref_sum, i-k, k))\n",
        "\n",
        "    for i in range(n-2, -1, -1):\n",
        "        suf_sum[i] = suf_sum[i+1] + gifts[i]\n",
        "        suf_max[i] = get__sum(suf_sum, i, k, n) if n - \\\n",
        "            i < k else max(suf_max[i+1], get__sum(suf_sum, i+k, k, n))\n",
        "\n",
        "    ans = int(1e9)\n",
        "    for i in range(k-1, n):\n",
        "        tmp = get_sum(pref_sum, i, k)\n",
        "        if tmp >= pref_max[i] and tmp >= suf_max[i]:\n",
        "            ans = min(ans, tmp)\n",
        "\n",
        "    print(ans)\n",
        "\n",
        "\n",
        "solve()"
      ],
      "execution_count": null,
      "outputs": [
        {
          "output_type": "stream",
          "text": [
            "10 2\n",
            "1 2 4 5 2 4 2 2 1 6\n",
            "7\n"
          ],
          "name": "stdout"
        }
      ]
    }
  ]
}