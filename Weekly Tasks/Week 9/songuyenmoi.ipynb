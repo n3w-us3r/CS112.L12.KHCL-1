{
  "nbformat": 4,
  "nbformat_minor": 0,
  "metadata": {
    "colab": {
      "name": "Untitled0.ipynb",
      "provenance": [],
      "collapsed_sections": [],
      "toc_visible": true
    },
    "kernelspec": {
      "name": "python3",
      "display_name": "Python 3"
    }
  },
  "cells": [
    {
      "cell_type": "markdown",
      "metadata": {
        "id": "HGsw_PTI-o-W"
      },
      "source": [
        "# Số nguyên mới\r\n",
        "Cho số nguyên dương n có không quá 100 chữ số. Hãy xác định số nguyên lớn nhất m chia hết cho 3 và khác n ở đúng một chữ số.\r\n",
        "\r\n",
        "Ví dụ, n = 123 thì m sẽ là 723.\r\n",
        "\r\n",
        "Dữ liệu: Vào từ thiết bị nhập chuẩn gồm một dòng chứa số nguyên n có không quá 100 chữ số và không chứa các số 0 không có nghĩa.\r\n",
        "\r\n",
        "Kết quả: Đưa ra thiết bị xuất chuẩn số nguyên m tìm được.\r\n",
        "\r\n",
        "Ví dụ:\r\n",
        "\r\n",
        "| Input | Output |  \r\n",
        "|-------|--------|\r\n",
        "| 123   | 723    | \r\n",
        "\r\n",
        "\r\n"
      ]
    },
    {
      "cell_type": "markdown",
      "metadata": {
        "id": "yL33QIuh-o-W"
      },
      "source": [
        "## 1. Abstraction\n",
        " Tìm số nguyên dương $m$ chia hết cho 3 và khác $n$ đúng một chữ số\n"
      ]
    },
    {
      "cell_type": "markdown",
      "metadata": {
        "id": "F0MzvYtc-o-W"
      },
      "source": [
        "## 2. Pattern Recognition\n",
        "Xử lý bài toán duyệt qua các chữ số của số nguyên $n$"
      ]
    },
    {
      "cell_type": "markdown",
      "metadata": {
        "id": "8yeuGlbV-o-W"
      },
      "source": [
        "## 3. Design Algorithms\n",
        "Trước tiên , hãy xem qua 1 nguyên lý căn bản :\n",
        "\n",
        "Giả sử ta có một số nguyên K <br>\n",
        "\n",
        "mod = K%3  <br>\n",
        "-Nếu mod = 1 thì K + a ( với a là số nguyên và a%3 =2) sẽ là một số chia hết cho 3 <br>\n",
        "VD: K= 13 , mod= 1 , a = 5 => K+a=18 sẽ chia hết cho 3 <br>\n",
        "-Nếu mod = 2 thì K + b ( với b là số nguyên và b%3 =1) sẽ là một số chia hết cho 3  <br>\n",
        "VD: K= 5 , mod= 2 , a = 4 => K+a=9 sẽ chia hết cho 3 <br>\n",
        "Tổng quát : Ta có thể đưa một số không chia hết cho 3 về một số chia hết cho 3 bằng cách cộng nó với 1 số khác có phần dư khi chia cho 3  sao cho tổng 2 phần dư của chúng = 3\n",
        "\n",
        "Ý tưởng  của thuật toán \n",
        "\n",
        "- Chia các chữ số từ 0-9 thành 3 nhóm dựa trên số dư tương ứng của chúng khi chia cho 3 <br>\n",
        "    1.Dư 0 : 9,6,3 \n",
        "\n",
        "    2.Dư 1: 7,4,1\n",
        "\n",
        "    3.Dư 2: 8,5,2 \n",
        "- Tính mod = n%3 \n",
        "- Chúng ta sẽ thay đổi 1 chữ số của n ưu tiên từ trái sang phải để được số lớn nhất theo yêu cầu.Việc thay đổi chữ số này phải đảm bảm được 3 yêu cầu:<br>\n",
        "\n",
        "\n",
        "\n",
        "\n",
        ">1. Số mới thu được phải chia hết cho 3 <br>\n",
        "2. Phải là số lớn nhất có thể<br>\n",
        "3. Chữ số mới từ 0-9<br>\n",
        "Yêu cầu 1 sẽ được giải quyết dựa trên nguyên lý đã để cập ở trên<br>\n",
        "Yêu cầu 2 sẽ được giải quyết bằng việc cộng vào số ban đầu 1 số  theo từ lớn tới nhỏ vd như 9,6,3<br>\n",
        "Yêu cầu 3 sẽ được giải quyết bằng cách thêm ràng buộc là chữ số mới thu được phải nhỏ hơn 10\n",
        "\n",
        "VD : Với  n= 125 sẽ thu được mod = 2 <br>\n",
        "Số mới thu được sẽ là 825 (1+7,2,5)\n",
        "\n",
        "# Time Complexity : O(N)\n",
        "Với mỗi chữ số , ta thay tối đa là 3 lần \n",
        "\n",
        "=> N chữ số sẽ thay 3*N \n",
        "\n",
        "=> Độ phức tạp O(3*N) =O(N)\n",
        "# Space Complexity : O(N)\n",
        "1 dictionary 3x3 =9\n",
        "\n",
        "1 list chứa các chữ số kích thước là là N \n",
        "\n",
        "=> Độ phức tạp max (O(9), O(N)) = O(N)\n",
        "\n",
        "\n",
        "\n",
        "\n"
      ]
    },
    {
      "cell_type": "markdown",
      "metadata": {
        "id": "0bcPTxAl-o-W"
      },
      "source": [
        "## 4. Implement"
      ]
    },
    {
      "cell_type": "code",
      "metadata": {
        "colab": {
          "base_uri": "https://localhost:8080/"
        },
        "id": "TCeNwNbH-o-W",
        "outputId": "aa380a27-7efc-4447-a097-3599bdbb7cfe"
      },
      "source": [
        "#import time\n",
        "a = input()\n",
        "\n",
        "def solve(a):\n",
        "    int_a = int(a)\n",
        "    list_a = list(a)\n",
        "    mod = int_a%3\n",
        "\n",
        "    magic = {\n",
        "        2:[8,5,2],\n",
        "        1:[7,4,1],\n",
        "        3:[9,6,3]\n",
        "    }\n",
        "    check=1\n",
        "    change = 0\n",
        "    while check!=0:\n",
        "        for i in range (len(list_a)):\n",
        "            list_a[i] = int(list_a[i])\n",
        "            for j in magic[3-mod]:\n",
        "                if list_a[i]+j<10:\n",
        "                    list_a[i]=list_a[i]+j\n",
        "                    change=1\n",
        "                    check=0\n",
        "                    break\n",
        "            if check ==0:\n",
        "                break\n",
        "        check=0\n",
        "\n",
        "    if change==0:\n",
        "        if mod!=0:\n",
        "            list_a[-1] = int(list_a[-1])-mod\n",
        "        else:\n",
        "            list_a[-1] = int(list_a[-1])-3\n",
        "\n",
        "    return ''.join([str(x) for x in list_a])\n",
        "print(solve(a))\n"
      ],
      "execution_count": 1,
      "outputs": [
        {
          "output_type": "stream",
          "text": [
            "123\n",
            "723\n"
          ],
          "name": "stdout"
        }
      ]
    }
  ]
}